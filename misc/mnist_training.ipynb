{
 "cells": [
  {
   "cell_type": "markdown",
   "metadata": {},
   "source": [
    "This notebook tests a CNN training network and constructs a centralised baseline for the MNIST dataset"
   ]
  },
  {
   "cell_type": "code",
   "execution_count": null,
   "metadata": {},
   "outputs": [],
   "source": [
    "from datasets import load_dataset\n",
    "from matplotlib import pyplot as plt\n",
    "import torch\n",
    "from torch import nn\n",
    "from torch.utils.data import DataLoader\n",
    "from tqdm import tqdm\n",
    "\n",
    "from common.nn import MnistClassifier"
   ]
  },
  {
   "cell_type": "code",
   "execution_count": null,
   "metadata": {},
   "outputs": [],
   "source": [
    "# Load Dataset\n",
    "dataset = load_dataset(\"mnist\").with_format(\"torch\")\n",
    "train = dataset[\"train\"]\n",
    "test = dataset[\"test\"]\n",
    "train_dataloader = DataLoader(train, batch_size=32)\n",
    "test_dataloader = DataLoader(test, batch_size=32)"
   ]
  },
  {
   "cell_type": "code",
   "execution_count": null,
   "metadata": {},
   "outputs": [],
   "source": [
    "# Visualise data\n",
    "sample_feature, sample_label = train[0]['image'], train[0][\"label\"]\n",
    "plt.imshow(sample_feature)\n",
    "print(f\"Feature shape: {sample_feature.shape} | Label {sample_label}\")"
   ]
  },
  {
   "cell_type": "code",
   "execution_count": null,
   "metadata": {},
   "outputs": [],
   "source": [
    "# Train the Classifier\n",
    "torch.manual_seed(0)\n",
    "net = MnistClassifier()\n",
    "cross_entropy_loss = nn.CrossEntropyLoss()\n",
    "optim = torch.optim.Adam(net.parameters())\n",
    "\n",
    "losses = []\n",
    "for epoch in tqdm(range(10)):\n",
    "    c = 0\n",
    "    for batch in train_dataloader:\n",
    "        c+=1\n",
    "        if c > 100:\n",
    "            break\n",
    "        X, y = batch[\"image\"], batch[\"label\"]\n",
    "        # Predict Labels\n",
    "        py = net(X)\n",
    "        # Loss\n",
    "        loss = cross_entropy_loss(py, y)\n",
    "        # Step\n",
    "        optim.zero_grad()\n",
    "        loss.backward()\n",
    "        losses.append(loss.item())\n",
    "        optim.step()"
   ]
  },
  {
   "cell_type": "code",
   "execution_count": null,
   "metadata": {},
   "outputs": [],
   "source": [
    "plt.plot(losses)"
   ]
  },
  {
   "cell_type": "code",
   "execution_count": null,
   "metadata": {},
   "outputs": [],
   "source": [
    "average_loss, correct = 0, 0\n",
    "size, num_batches = len(test_dataloader.dataset), len(test_dataloader)\n",
    "for batch in test_dataloader:\n",
    "    X, y = batch[\"image\"], batch[\"label\"]\n",
    "    # Predict Labels\n",
    "    py = net(X)\n",
    "    # Loss\n",
    "    average_loss += cross_entropy_loss(py, y).item()\n",
    "    # Correct\n",
    "    correct += (py.argmax(1) == y).type(torch.float).sum().item()\n",
    "average_loss = average_loss / num_batches\n",
    "accuracy = correct / size"
   ]
  }
 ],
 "metadata": {
  "kernelspec": {
   "display_name": "venv",
   "language": "python",
   "name": "python3"
  },
  "language_info": {
   "codemirror_mode": {
    "name": "ipython",
    "version": 3
   },
   "file_extension": ".py",
   "mimetype": "text/x-python",
   "name": "python",
   "nbconvert_exporter": "python",
   "pygments_lexer": "ipython3",
   "version": "3.11.7"
  }
 },
 "nbformat": 4,
 "nbformat_minor": 2
}
