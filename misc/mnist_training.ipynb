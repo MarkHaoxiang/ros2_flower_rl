{
 "cells": [
  {
   "cell_type": "markdown",
   "metadata": {},
   "source": [
    "This notebook tests a CNN training network and constructs a centralised baseline for the MNIST dataset"
   ]
  },
  {
   "cell_type": "code",
   "execution_count": null,
   "metadata": {},
   "outputs": [],
   "source": [
    "from datasets import load_dataset\n",
    "from matplotlib import pyplot as plt\n",
    "from torch.utils.data import DataLoader\n",
    "from tqdm import tqdm"
   ]
  },
  {
   "cell_type": "code",
   "execution_count": null,
   "metadata": {},
   "outputs": [],
   "source": [
    "# Load Dataset\n",
    "dataset = load_dataset(\"mnist\").with_format(\"torch\")\n",
    "train = dataset[\"train\"]\n",
    "test = dataset[\"test\"]\n",
    "train_dataloader = DataLoader(train, batch_size=32)\n",
    "test_dataloader = DataLoader(test, batch_size=32)"
   ]
  },
  {
   "cell_type": "code",
   "execution_count": null,
   "metadata": {},
   "outputs": [],
   "source": [
    "# Visualise data\n",
    "sample_feature, sample_label = train[0]['image'], train[0][\"label\"]\n",
    "plt.imshow(sample_feature)\n",
    "print(f\"Feature shape: {sample_feature.shape} | Label {sample_label}\")"
   ]
  },
  {
   "cell_type": "code",
   "execution_count": null,
   "metadata": {},
   "outputs": [],
   "source": [
    "import torch\n",
    "from torch import nn\n",
    "\n",
    "class MnistClassifier(nn.Module):\n",
    "    \"\"\" This class defines a basic convolutional neural nework\n",
    "    \"\"\"\n",
    "    def __init__(self):\n",
    "        super().__init__()\n",
    "\n",
    "        self.conv = nn.Sequential(\n",
    "        nn.Conv2d(in_channels=1, out_channels=16, kernel_size=5, padding=3),\n",
    "        nn.LeakyReLU(),\n",
    "        nn.MaxPool2d(kernel_size=3),\n",
    "        nn.Conv2d(in_channels=16,out_channels=32, kernel_size=3, padding=3),\n",
    "        nn.LeakyReLU(),\n",
    "        nn.Conv2d(in_channels=32,out_channels=64, kernel_size=3, padding=3),\n",
    "        nn.LeakyReLU()\n",
    "        )\n",
    "        self.flatten = nn.Flatten(start_dim=-3, end_dim=-1)\n",
    "        self.mlp = nn.Sequential(\n",
    "            nn.LazyLinear(out_features=32),\n",
    "            nn.LeakyReLU(),\n",
    "            nn.Linear(in_features=32, out_features=10)\n",
    "        )\n",
    "\n",
    "    def forward(self, x: torch.Tensor) -> torch.Tensor:\n",
    "        x = x.to(torch.float32)\n",
    "        x = self.conv(x)\n",
    "        x = self.flatten(x)\n",
    "        x = self.mlp(x)\n",
    "        return x\n",
    "\n",
    "net = MnistClassifier()\n",
    "net(sample_feature.unsqueeze(0))"
   ]
  },
  {
   "cell_type": "code",
   "execution_count": null,
   "metadata": {},
   "outputs": [],
   "source": [
    "# Train the Classifier\n",
    "torch.manual_seed(0)\n",
    "net = MnistClassifier()\n",
    "cross_entropy_loss = nn.CrossEntropyLoss()\n",
    "optim = torch.optim.Adam(net.parameters())\n",
    "\n",
    "losses = []\n",
    "for epoch in tqdm(range(10)):\n",
    "    c = 0\n",
    "    for batch in train_dataloader:\n",
    "        c+=1\n",
    "        if c > 50:\n",
    "            break\n",
    "        X, y = batch[\"image\"], batch[\"label\"]\n",
    "        # Normalisation step\n",
    "        X = (X / 256).unsqueeze(-3)\n",
    "        # Predict Labels\n",
    "        py = net(X)\n",
    "        # Loss\n",
    "        loss = cross_entropy_loss(py, y)\n",
    "        # Step\n",
    "        optim.zero_grad()\n",
    "        loss.backward()\n",
    "        losses.append(loss.item())\n",
    "        optim.step()"
   ]
  },
  {
   "cell_type": "code",
   "execution_count": null,
   "metadata": {},
   "outputs": [],
   "source": [
    "plt.plot(losses)"
   ]
  }
 ],
 "metadata": {
  "kernelspec": {
   "display_name": "venv",
   "language": "python",
   "name": "python3"
  },
  "language_info": {
   "codemirror_mode": {
    "name": "ipython",
    "version": 3
   },
   "file_extension": ".py",
   "mimetype": "text/x-python",
   "name": "python",
   "nbconvert_exporter": "python",
   "pygments_lexer": "ipython3",
   "version": "3.11.7"
  }
 },
 "nbformat": 4,
 "nbformat_minor": 2
}
